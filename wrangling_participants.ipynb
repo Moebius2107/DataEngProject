{
 "cells": [
  {
   "cell_type": "markdown",
   "metadata": {},
   "source": [
    "# Data Pre-processing\n",
    "<p float=\"left\">\n",
    "<img src=\"https://upload.wikimedia.org/wikipedia/en/3/39/Tartu_%C3%9Clikool_logo.svg\" width=\"100\"/>\n",
    "</p>"
   ]
  },
  {
   "cell_type": "code",
   "execution_count": 4,
   "metadata": {},
   "outputs": [],
   "source": [
    "import pandas as pd\n",
    "import numpy as np\n",
    "import warnings\n",
    "\n",
    "from pymongo import MongoClient\n",
    "from matplotlib import pyplot as plt"
   ]
  },
  {
   "cell_type": "code",
   "execution_count": 3,
   "metadata": {},
   "outputs": [
    {
     "data": {
      "text/plain": [
       "<module 'pandas' from 'c:\\\\Users\\\\jinfr\\\\AppData\\\\Local\\\\Programs\\\\Python\\\\Python310\\\\lib\\\\site-packages\\\\pandas\\\\__init__.py'>"
      ]
     },
     "execution_count": 3,
     "metadata": {},
     "output_type": "execute_result"
    }
   ],
   "source": [
    "pd"
   ]
  },
  {
   "cell_type": "markdown",
   "metadata": {},
   "source": [
    "## Pre-processing the first data set\n",
    "\n",
    "### Profiling\n",
    "First we do some generic profiling. We check the shape, the data types, the columns and a general statistical description of the data."
   ]
  },
  {
   "cell_type": "code",
   "execution_count": 8,
   "metadata": {},
   "outputs": [],
   "source": [
    "conn = MongoClient('localhost', 27017)\n",
    "mydb = conn['data_eng_db']\n",
    "participants_frame  = pd.DataFrame(list(mydb['participants'].find()))"
   ]
  },
  {
   "cell_type": "code",
   "execution_count": 9,
   "metadata": {},
   "outputs": [
    {
     "data": {
      "text/plain": [
       "(2000, 17)"
      ]
     },
     "execution_count": 9,
     "metadata": {},
     "output_type": "execute_result"
    }
   ],
   "source": [
    "# check amount of rows and columns \n",
    "participants_frame.shape"
   ]
  },
  {
   "cell_type": "code",
   "execution_count": 10,
   "metadata": {},
   "outputs": [
    {
     "data": {
      "text/plain": [
       "_id                             object\n",
       "participant-likes               object\n",
       "participant-projects            object\n",
       "participant-url                 object\n",
       "participant-name                object\n",
       "participant-followers           object\n",
       "participant-location            object\n",
       "participant-bio                 object\n",
       "participant-id                  object\n",
       "participant-linkedin            object\n",
       "participant-website             object\n",
       "participant-github              object\n",
       "participant-hackathons          object\n",
       "participant-following           object\n",
       "participant-number-of-skills    object\n",
       "participant-skills              object\n",
       "participant-twitter             object\n",
       "dtype: object"
      ]
     },
     "execution_count": 10,
     "metadata": {},
     "output_type": "execute_result"
    }
   ],
   "source": [
    "participants_frame.dtypes"
   ]
  },
  {
   "cell_type": "code",
   "execution_count": 11,
   "metadata": {},
   "outputs": [
    {
     "data": {
      "text/html": [
       "<div>\n",
       "<style scoped>\n",
       "    .dataframe tbody tr th:only-of-type {\n",
       "        vertical-align: middle;\n",
       "    }\n",
       "\n",
       "    .dataframe tbody tr th {\n",
       "        vertical-align: top;\n",
       "    }\n",
       "\n",
       "    .dataframe thead th {\n",
       "        text-align: right;\n",
       "    }\n",
       "</style>\n",
       "<table border=\"1\" class=\"dataframe\">\n",
       "  <thead>\n",
       "    <tr style=\"text-align: right;\">\n",
       "      <th></th>\n",
       "      <th>_id</th>\n",
       "      <th>participant-likes</th>\n",
       "      <th>participant-projects</th>\n",
       "      <th>participant-url</th>\n",
       "      <th>participant-name</th>\n",
       "      <th>participant-followers</th>\n",
       "      <th>participant-location</th>\n",
       "      <th>participant-bio</th>\n",
       "      <th>participant-id</th>\n",
       "      <th>participant-linkedin</th>\n",
       "      <th>participant-website</th>\n",
       "      <th>participant-github</th>\n",
       "      <th>participant-hackathons</th>\n",
       "      <th>participant-following</th>\n",
       "      <th>participant-number-of-skills</th>\n",
       "      <th>participant-skills</th>\n",
       "      <th>participant-twitter</th>\n",
       "    </tr>\n",
       "  </thead>\n",
       "  <tbody>\n",
       "    <tr>\n",
       "      <th>count</th>\n",
       "      <td>2000</td>\n",
       "      <td>2000</td>\n",
       "      <td>2000</td>\n",
       "      <td>2000</td>\n",
       "      <td>2000</td>\n",
       "      <td>2000</td>\n",
       "      <td>2000</td>\n",
       "      <td>2000</td>\n",
       "      <td>2000</td>\n",
       "      <td>2000</td>\n",
       "      <td>2000</td>\n",
       "      <td>2000</td>\n",
       "      <td>2000</td>\n",
       "      <td>2000</td>\n",
       "      <td>2000</td>\n",
       "      <td>2000</td>\n",
       "      <td>2000</td>\n",
       "    </tr>\n",
       "    <tr>\n",
       "      <th>unique</th>\n",
       "      <td>2000</td>\n",
       "      <td>11</td>\n",
       "      <td>12</td>\n",
       "      <td>500</td>\n",
       "      <td>500</td>\n",
       "      <td>19</td>\n",
       "      <td>282</td>\n",
       "      <td>45</td>\n",
       "      <td>500</td>\n",
       "      <td>91</td>\n",
       "      <td>227</td>\n",
       "      <td>219</td>\n",
       "      <td>14</td>\n",
       "      <td>16</td>\n",
       "      <td>24</td>\n",
       "      <td>297</td>\n",
       "      <td>46</td>\n",
       "    </tr>\n",
       "    <tr>\n",
       "      <th>top</th>\n",
       "      <td>637cdbf3a542eaf7a0848549</td>\n",
       "      <td>0</td>\n",
       "      <td>1</td>\n",
       "      <td>https://devpost.com/4n3ver</td>\n",
       "      <td>Yoel Ivan</td>\n",
       "      <td>0</td>\n",
       "      <td></td>\n",
       "      <td></td>\n",
       "      <td>4n3ver</td>\n",
       "      <td></td>\n",
       "      <td></td>\n",
       "      <td></td>\n",
       "      <td>1</td>\n",
       "      <td>0</td>\n",
       "      <td>0</td>\n",
       "      <td>[]</td>\n",
       "      <td></td>\n",
       "    </tr>\n",
       "    <tr>\n",
       "      <th>freq</th>\n",
       "      <td>1</td>\n",
       "      <td>1388</td>\n",
       "      <td>1468</td>\n",
       "      <td>4</td>\n",
       "      <td>4</td>\n",
       "      <td>1236</td>\n",
       "      <td>344</td>\n",
       "      <td>1824</td>\n",
       "      <td>4</td>\n",
       "      <td>1640</td>\n",
       "      <td>1096</td>\n",
       "      <td>1128</td>\n",
       "      <td>1196</td>\n",
       "      <td>1540</td>\n",
       "      <td>576</td>\n",
       "      <td>576</td>\n",
       "      <td>1820</td>\n",
       "    </tr>\n",
       "  </tbody>\n",
       "</table>\n",
       "</div>"
      ],
      "text/plain": [
       "                             _id participant-likes participant-projects  \\\n",
       "count                       2000              2000                 2000   \n",
       "unique                      2000                11                   12   \n",
       "top     637cdbf3a542eaf7a0848549                 0                    1   \n",
       "freq                           1              1388                 1468   \n",
       "\n",
       "                   participant-url participant-name participant-followers  \\\n",
       "count                         2000             2000                  2000   \n",
       "unique                         500              500                    19   \n",
       "top     https://devpost.com/4n3ver        Yoel Ivan                     0   \n",
       "freq                             4                4                  1236   \n",
       "\n",
       "       participant-location participant-bio participant-id  \\\n",
       "count                  2000            2000           2000   \n",
       "unique                  282              45            500   \n",
       "top                                                 4n3ver   \n",
       "freq                    344            1824              4   \n",
       "\n",
       "       participant-linkedin participant-website participant-github  \\\n",
       "count                  2000                2000               2000   \n",
       "unique                   91                 227                219   \n",
       "top                                                                  \n",
       "freq                   1640                1096               1128   \n",
       "\n",
       "       participant-hackathons participant-following  \\\n",
       "count                    2000                  2000   \n",
       "unique                     14                    16   \n",
       "top                         1                     0   \n",
       "freq                     1196                  1540   \n",
       "\n",
       "       participant-number-of-skills participant-skills participant-twitter  \n",
       "count                          2000               2000                2000  \n",
       "unique                           24                297                  46  \n",
       "top                               0                 []                      \n",
       "freq                            576                576                1820  "
      ]
     },
     "execution_count": 11,
     "metadata": {},
     "output_type": "execute_result"
    }
   ],
   "source": [
    "participants_frame.describe()"
   ]
  },
  {
   "cell_type": "code",
   "execution_count": 13,
   "metadata": {},
   "outputs": [
    {
     "data": {
      "text/html": [
       "<div>\n",
       "<style scoped>\n",
       "    .dataframe tbody tr th:only-of-type {\n",
       "        vertical-align: middle;\n",
       "    }\n",
       "\n",
       "    .dataframe tbody tr th {\n",
       "        vertical-align: top;\n",
       "    }\n",
       "\n",
       "    .dataframe thead th {\n",
       "        text-align: right;\n",
       "    }\n",
       "</style>\n",
       "<table border=\"1\" class=\"dataframe\">\n",
       "  <thead>\n",
       "    <tr style=\"text-align: right;\">\n",
       "      <th></th>\n",
       "      <th>_id</th>\n",
       "      <th>participant-likes</th>\n",
       "      <th>participant-projects</th>\n",
       "      <th>participant-url</th>\n",
       "      <th>participant-name</th>\n",
       "      <th>participant-followers</th>\n",
       "      <th>participant-location</th>\n",
       "      <th>participant-bio</th>\n",
       "      <th>participant-id</th>\n",
       "      <th>participant-linkedin</th>\n",
       "      <th>participant-website</th>\n",
       "      <th>participant-github</th>\n",
       "      <th>participant-hackathons</th>\n",
       "      <th>participant-following</th>\n",
       "      <th>participant-number-of-skills</th>\n",
       "      <th>participant-skills</th>\n",
       "      <th>participant-twitter</th>\n",
       "    </tr>\n",
       "  </thead>\n",
       "  <tbody>\n",
       "    <tr>\n",
       "      <th>0</th>\n",
       "      <td>637cdbf3a542eaf7a0848549</td>\n",
       "      <td>1</td>\n",
       "      <td>2</td>\n",
       "      <td>https://devpost.com/4n3ver</td>\n",
       "      <td>Yoel Ivan</td>\n",
       "      <td>1</td>\n",
       "      <td>Atlanta, GA, US</td>\n",
       "      <td></td>\n",
       "      <td>4n3ver</td>\n",
       "      <td>https://www.linkedin.com/in/yoelivan</td>\n",
       "      <td>https://github.com/4n3ver</td>\n",
       "      <td>https://github.com/4n3ver</td>\n",
       "      <td>2</td>\n",
       "      <td>0</td>\n",
       "      <td>18</td>\n",
       "      <td>[{'url': 'https://devpost.com/software/built-w...</td>\n",
       "      <td></td>\n",
       "    </tr>\n",
       "    <tr>\n",
       "      <th>1</th>\n",
       "      <td>637cdbf4a542eaf7a084854a</td>\n",
       "      <td>0</td>\n",
       "      <td>1</td>\n",
       "      <td>https://devpost.com/88250</td>\n",
       "      <td>Liang Ding</td>\n",
       "      <td>2</td>\n",
       "      <td>Kunming, Yunnan, China</td>\n",
       "      <td></td>\n",
       "      <td>88250</td>\n",
       "      <td></td>\n",
       "      <td>http://88250.b3log.org</td>\n",
       "      <td></td>\n",
       "      <td>1</td>\n",
       "      <td>2</td>\n",
       "      <td>2</td>\n",
       "      <td>[{'url': 'https://devpost.com/software/built-w...</td>\n",
       "      <td></td>\n",
       "    </tr>\n",
       "    <tr>\n",
       "      <th>2</th>\n",
       "      <td>637cdbf4a542eaf7a084854b</td>\n",
       "      <td>0</td>\n",
       "      <td>3</td>\n",
       "      <td>https://devpost.com/aaronkoons</td>\n",
       "      <td>Aaron Koons</td>\n",
       "      <td>1</td>\n",
       "      <td>Rochester, New York, United States</td>\n",
       "      <td></td>\n",
       "      <td>aaronkoons</td>\n",
       "      <td></td>\n",
       "      <td></td>\n",
       "      <td></td>\n",
       "      <td>3</td>\n",
       "      <td>3</td>\n",
       "      <td>2</td>\n",
       "      <td>[{'url': 'https://devpost.com/software/built-w...</td>\n",
       "      <td></td>\n",
       "    </tr>\n",
       "    <tr>\n",
       "      <th>3</th>\n",
       "      <td>637cdbf4a542eaf7a084854c</td>\n",
       "      <td>0</td>\n",
       "      <td>1</td>\n",
       "      <td>https://devpost.com/Ab3PHilip</td>\n",
       "      <td>Abraham Philip</td>\n",
       "      <td>1</td>\n",
       "      <td>Exton, Pennsylvania, United States</td>\n",
       "      <td></td>\n",
       "      <td>Ab3PHilip</td>\n",
       "      <td></td>\n",
       "      <td>https://github.com/Ab3Philip</td>\n",
       "      <td>https://github.com/Ab3Philip</td>\n",
       "      <td>0</td>\n",
       "      <td>0</td>\n",
       "      <td>3</td>\n",
       "      <td>[{'url': 'https://devpost.com/software/built-w...</td>\n",
       "      <td></td>\n",
       "    </tr>\n",
       "    <tr>\n",
       "      <th>4</th>\n",
       "      <td>637cdbf4a542eaf7a084854d</td>\n",
       "      <td>2</td>\n",
       "      <td>5</td>\n",
       "      <td>https://devpost.com/abeSanchez</td>\n",
       "      <td>abe sanchez</td>\n",
       "      <td>0</td>\n",
       "      <td>Orlando, Florida, United States</td>\n",
       "      <td></td>\n",
       "      <td>abeSanchez</td>\n",
       "      <td></td>\n",
       "      <td>https://github.com/abe-sanchez</td>\n",
       "      <td>https://github.com/abe-sanchez</td>\n",
       "      <td>4</td>\n",
       "      <td>3</td>\n",
       "      <td>8</td>\n",
       "      <td>[{'url': 'https://devpost.com/software/built-w...</td>\n",
       "      <td></td>\n",
       "    </tr>\n",
       "  </tbody>\n",
       "</table>\n",
       "</div>"
      ],
      "text/plain": [
       "                        _id participant-likes participant-projects  \\\n",
       "0  637cdbf3a542eaf7a0848549                 1                    2   \n",
       "1  637cdbf4a542eaf7a084854a                 0                    1   \n",
       "2  637cdbf4a542eaf7a084854b                 0                    3   \n",
       "3  637cdbf4a542eaf7a084854c                 0                    1   \n",
       "4  637cdbf4a542eaf7a084854d                 2                    5   \n",
       "\n",
       "                  participant-url participant-name participant-followers  \\\n",
       "0      https://devpost.com/4n3ver        Yoel Ivan                     1   \n",
       "1       https://devpost.com/88250       Liang Ding                     2   \n",
       "2  https://devpost.com/aaronkoons      Aaron Koons                     1   \n",
       "3   https://devpost.com/Ab3PHilip   Abraham Philip                     1   \n",
       "4  https://devpost.com/abeSanchez      abe sanchez                     0   \n",
       "\n",
       "                 participant-location participant-bio participant-id  \\\n",
       "0                     Atlanta, GA, US                         4n3ver   \n",
       "1              Kunming, Yunnan, China                          88250   \n",
       "2  Rochester, New York, United States                     aaronkoons   \n",
       "3  Exton, Pennsylvania, United States                      Ab3PHilip   \n",
       "4     Orlando, Florida, United States                     abeSanchez   \n",
       "\n",
       "                   participant-linkedin             participant-website  \\\n",
       "0  https://www.linkedin.com/in/yoelivan       https://github.com/4n3ver   \n",
       "1                                                http://88250.b3log.org   \n",
       "2                                                                         \n",
       "3                                          https://github.com/Ab3Philip   \n",
       "4                                        https://github.com/abe-sanchez   \n",
       "\n",
       "               participant-github participant-hackathons  \\\n",
       "0       https://github.com/4n3ver                      2   \n",
       "1                                                      1   \n",
       "2                                                      3   \n",
       "3    https://github.com/Ab3Philip                      0   \n",
       "4  https://github.com/abe-sanchez                      4   \n",
       "\n",
       "  participant-following participant-number-of-skills  \\\n",
       "0                     0                           18   \n",
       "1                     2                            2   \n",
       "2                     3                            2   \n",
       "3                     0                            3   \n",
       "4                     3                            8   \n",
       "\n",
       "                                  participant-skills participant-twitter  \n",
       "0  [{'url': 'https://devpost.com/software/built-w...                      \n",
       "1  [{'url': 'https://devpost.com/software/built-w...                      \n",
       "2  [{'url': 'https://devpost.com/software/built-w...                      \n",
       "3  [{'url': 'https://devpost.com/software/built-w...                      \n",
       "4  [{'url': 'https://devpost.com/software/built-w...                      "
      ]
     },
     "execution_count": 13,
     "metadata": {},
     "output_type": "execute_result"
    }
   ],
   "source": [
    "participants_frame.head()"
   ]
  },
  {
   "cell_type": "code",
   "execution_count": 14,
   "metadata": {},
   "outputs": [
    {
     "data": {
      "text/plain": [
       "Index(['_id', 'participant-likes', 'participant-projects', 'participant-url',\n",
       "       'participant-name', 'participant-followers', 'participant-location',\n",
       "       'participant-bio', 'participant-id', 'participant-linkedin',\n",
       "       'participant-website', 'participant-github', 'participant-hackathons',\n",
       "       'participant-following', 'participant-number-of-skills',\n",
       "       'participant-skills', 'participant-twitter'],\n",
       "      dtype='object')"
      ]
     },
     "execution_count": 14,
     "metadata": {},
     "output_type": "execute_result"
    }
   ],
   "source": [
    "participants_frame.columns"
   ]
  },
  {
   "cell_type": "markdown",
   "metadata": {},
   "source": [
    "### Handling duplicates"
   ]
  },
  {
   "cell_type": "code",
   "execution_count": 20,
   "metadata": {},
   "outputs": [],
   "source": [
    "dupes = participants_frame['participant-url'].duplicated()"
   ]
  },
  {
   "cell_type": "code",
   "execution_count": 22,
   "metadata": {},
   "outputs": [
    {
     "data": {
      "text/plain": [
       "0       False\n",
       "1       False\n",
       "2       False\n",
       "3       False\n",
       "4       False\n",
       "        ...  \n",
       "1995     True\n",
       "1996     True\n",
       "1997     True\n",
       "1998     True\n",
       "1999     True\n",
       "Name: participant-url, Length: 2000, dtype: bool"
      ]
     },
     "execution_count": 22,
     "metadata": {},
     "output_type": "execute_result"
    }
   ],
   "source": [
    "dupes"
   ]
  },
  {
   "cell_type": "code",
   "execution_count": 33,
   "metadata": {},
   "outputs": [
    {
     "data": {
      "text/html": [
       "<div>\n",
       "<style scoped>\n",
       "    .dataframe tbody tr th:only-of-type {\n",
       "        vertical-align: middle;\n",
       "    }\n",
       "\n",
       "    .dataframe tbody tr th {\n",
       "        vertical-align: top;\n",
       "    }\n",
       "\n",
       "    .dataframe thead th {\n",
       "        text-align: right;\n",
       "    }\n",
       "</style>\n",
       "<table border=\"1\" class=\"dataframe\">\n",
       "  <thead>\n",
       "    <tr style=\"text-align: right;\">\n",
       "      <th></th>\n",
       "      <th>participant-url</th>\n",
       "      <th>_id</th>\n",
       "      <th>participant-likes</th>\n",
       "      <th>participant-projects</th>\n",
       "      <th>participant-name</th>\n",
       "      <th>participant-followers</th>\n",
       "      <th>participant-location</th>\n",
       "      <th>participant-bio</th>\n",
       "      <th>participant-id</th>\n",
       "      <th>participant-linkedin</th>\n",
       "      <th>participant-website</th>\n",
       "      <th>participant-github</th>\n",
       "      <th>participant-hackathons</th>\n",
       "      <th>participant-following</th>\n",
       "      <th>participant-number-of-skills</th>\n",
       "      <th>participant-skills</th>\n",
       "      <th>participant-twitter</th>\n",
       "    </tr>\n",
       "  </thead>\n",
       "  <tbody>\n",
       "    <tr>\n",
       "      <th>count</th>\n",
       "      <td>500</td>\n",
       "      <td>500</td>\n",
       "      <td>500</td>\n",
       "      <td>500</td>\n",
       "      <td>500</td>\n",
       "      <td>500</td>\n",
       "      <td>500</td>\n",
       "      <td>500</td>\n",
       "      <td>500</td>\n",
       "      <td>500</td>\n",
       "      <td>500</td>\n",
       "      <td>500</td>\n",
       "      <td>500</td>\n",
       "      <td>500</td>\n",
       "      <td>500</td>\n",
       "      <td>500</td>\n",
       "      <td>500</td>\n",
       "    </tr>\n",
       "    <tr>\n",
       "      <th>unique</th>\n",
       "      <td>500</td>\n",
       "      <td>500</td>\n",
       "      <td>11</td>\n",
       "      <td>12</td>\n",
       "      <td>500</td>\n",
       "      <td>19</td>\n",
       "      <td>282</td>\n",
       "      <td>45</td>\n",
       "      <td>500</td>\n",
       "      <td>91</td>\n",
       "      <td>227</td>\n",
       "      <td>219</td>\n",
       "      <td>14</td>\n",
       "      <td>16</td>\n",
       "      <td>24</td>\n",
       "      <td>297</td>\n",
       "      <td>46</td>\n",
       "    </tr>\n",
       "    <tr>\n",
       "      <th>top</th>\n",
       "      <td>https://devpost.com/4n3ver</td>\n",
       "      <td>637cdbf3a542eaf7a0848549</td>\n",
       "      <td>0</td>\n",
       "      <td>1</td>\n",
       "      <td>Yoel Ivan</td>\n",
       "      <td>0</td>\n",
       "      <td></td>\n",
       "      <td></td>\n",
       "      <td>4n3ver</td>\n",
       "      <td></td>\n",
       "      <td></td>\n",
       "      <td></td>\n",
       "      <td>1</td>\n",
       "      <td>0</td>\n",
       "      <td>0</td>\n",
       "      <td>[]</td>\n",
       "      <td></td>\n",
       "    </tr>\n",
       "    <tr>\n",
       "      <th>freq</th>\n",
       "      <td>1</td>\n",
       "      <td>1</td>\n",
       "      <td>347</td>\n",
       "      <td>367</td>\n",
       "      <td>1</td>\n",
       "      <td>309</td>\n",
       "      <td>86</td>\n",
       "      <td>456</td>\n",
       "      <td>1</td>\n",
       "      <td>410</td>\n",
       "      <td>274</td>\n",
       "      <td>282</td>\n",
       "      <td>299</td>\n",
       "      <td>385</td>\n",
       "      <td>144</td>\n",
       "      <td>144</td>\n",
       "      <td>455</td>\n",
       "    </tr>\n",
       "  </tbody>\n",
       "</table>\n",
       "</div>"
      ],
      "text/plain": [
       "                   participant-url                       _id  \\\n",
       "count                          500                       500   \n",
       "unique                         500                       500   \n",
       "top     https://devpost.com/4n3ver  637cdbf3a542eaf7a0848549   \n",
       "freq                             1                         1   \n",
       "\n",
       "       participant-likes participant-projects participant-name  \\\n",
       "count                500                  500              500   \n",
       "unique                11                   12              500   \n",
       "top                    0                    1        Yoel Ivan   \n",
       "freq                 347                  367                1   \n",
       "\n",
       "       participant-followers participant-location participant-bio  \\\n",
       "count                    500                  500             500   \n",
       "unique                    19                  282              45   \n",
       "top                        0                                        \n",
       "freq                     309                   86             456   \n",
       "\n",
       "       participant-id participant-linkedin participant-website  \\\n",
       "count             500                  500                 500   \n",
       "unique            500                   91                 227   \n",
       "top            4n3ver                                            \n",
       "freq                1                  410                 274   \n",
       "\n",
       "       participant-github participant-hackathons participant-following  \\\n",
       "count                 500                    500                   500   \n",
       "unique                219                     14                    16   \n",
       "top                                            1                     0   \n",
       "freq                  282                    299                   385   \n",
       "\n",
       "       participant-number-of-skills participant-skills participant-twitter  \n",
       "count                           500                500                 500  \n",
       "unique                           24                297                  46  \n",
       "top                               0                 []                      \n",
       "freq                            144                144                 455  "
      ]
     },
     "execution_count": 33,
     "metadata": {},
     "output_type": "execute_result"
    }
   ],
   "source": [
    "#participants_no_duplicate = participants_frame.drop(participants_frame['participant-url'].duplicated()=True.index)\n",
    "#participants_no_duplicate.shape\n",
    "#pd.concat(g for _, g in participants_frame.groupby('participant-url') if len(g) > 1)\n",
    "participants_no_duplicata = participants_frame.groupby('participant-url').first().reset_index()\n",
    "participants_no_duplicata.describe()"
   ]
  },
  {
   "cell_type": "code",
   "execution_count": 34,
   "metadata": {},
   "outputs": [
    {
     "data": {
      "text/html": [
       "<div>\n",
       "<style scoped>\n",
       "    .dataframe tbody tr th:only-of-type {\n",
       "        vertical-align: middle;\n",
       "    }\n",
       "\n",
       "    .dataframe tbody tr th {\n",
       "        vertical-align: top;\n",
       "    }\n",
       "\n",
       "    .dataframe thead th {\n",
       "        text-align: right;\n",
       "    }\n",
       "</style>\n",
       "<table border=\"1\" class=\"dataframe\">\n",
       "  <thead>\n",
       "    <tr style=\"text-align: right;\">\n",
       "      <th></th>\n",
       "      <th>participant-url</th>\n",
       "      <th>_id</th>\n",
       "      <th>participant-likes</th>\n",
       "      <th>participant-projects</th>\n",
       "      <th>participant-name</th>\n",
       "      <th>participant-followers</th>\n",
       "      <th>participant-location</th>\n",
       "      <th>participant-bio</th>\n",
       "      <th>participant-id</th>\n",
       "      <th>participant-linkedin</th>\n",
       "      <th>participant-website</th>\n",
       "      <th>participant-github</th>\n",
       "      <th>participant-hackathons</th>\n",
       "      <th>participant-following</th>\n",
       "      <th>participant-number-of-skills</th>\n",
       "      <th>participant-skills</th>\n",
       "      <th>participant-twitter</th>\n",
       "    </tr>\n",
       "  </thead>\n",
       "  <tbody>\n",
       "    <tr>\n",
       "      <th>0</th>\n",
       "      <td>https://devpost.com/4n3ver</td>\n",
       "      <td>637cdbf3a542eaf7a0848549</td>\n",
       "      <td>1</td>\n",
       "      <td>2</td>\n",
       "      <td>Yoel Ivan</td>\n",
       "      <td>1</td>\n",
       "      <td>Atlanta, GA, US</td>\n",
       "      <td></td>\n",
       "      <td>4n3ver</td>\n",
       "      <td>https://www.linkedin.com/in/yoelivan</td>\n",
       "      <td>https://github.com/4n3ver</td>\n",
       "      <td>https://github.com/4n3ver</td>\n",
       "      <td>2</td>\n",
       "      <td>0</td>\n",
       "      <td>18</td>\n",
       "      <td>[{'url': 'https://devpost.com/software/built-w...</td>\n",
       "      <td></td>\n",
       "    </tr>\n",
       "    <tr>\n",
       "      <th>1</th>\n",
       "      <td>https://devpost.com/88250</td>\n",
       "      <td>637cdbf4a542eaf7a084854a</td>\n",
       "      <td>0</td>\n",
       "      <td>1</td>\n",
       "      <td>Liang Ding</td>\n",
       "      <td>2</td>\n",
       "      <td>Kunming, Yunnan, China</td>\n",
       "      <td></td>\n",
       "      <td>88250</td>\n",
       "      <td></td>\n",
       "      <td>http://88250.b3log.org</td>\n",
       "      <td></td>\n",
       "      <td>1</td>\n",
       "      <td>2</td>\n",
       "      <td>2</td>\n",
       "      <td>[{'url': 'https://devpost.com/software/built-w...</td>\n",
       "      <td></td>\n",
       "    </tr>\n",
       "    <tr>\n",
       "      <th>2</th>\n",
       "      <td>https://devpost.com/Ab3PHilip</td>\n",
       "      <td>637cdbf4a542eaf7a084854c</td>\n",
       "      <td>0</td>\n",
       "      <td>1</td>\n",
       "      <td>Abraham Philip</td>\n",
       "      <td>1</td>\n",
       "      <td>Exton, Pennsylvania, United States</td>\n",
       "      <td></td>\n",
       "      <td>Ab3PHilip</td>\n",
       "      <td></td>\n",
       "      <td>https://github.com/Ab3Philip</td>\n",
       "      <td>https://github.com/Ab3Philip</td>\n",
       "      <td>0</td>\n",
       "      <td>0</td>\n",
       "      <td>3</td>\n",
       "      <td>[{'url': 'https://devpost.com/software/built-w...</td>\n",
       "      <td></td>\n",
       "    </tr>\n",
       "    <tr>\n",
       "      <th>3</th>\n",
       "      <td>https://devpost.com/AbhinashKhanal</td>\n",
       "      <td>637cdbf4a542eaf7a084854e</td>\n",
       "      <td>0</td>\n",
       "      <td>1</td>\n",
       "      <td>Abhinash Khanal</td>\n",
       "      <td>0</td>\n",
       "      <td>Albany, New York, United States</td>\n",
       "      <td></td>\n",
       "      <td>AbhinashKhanal</td>\n",
       "      <td>https://www.linkedin.com/in/abhikhanal</td>\n",
       "      <td>http://www.linkedin.com/in/abhikhanal</td>\n",
       "      <td>https://github.com/khanal-abhi</td>\n",
       "      <td>1</td>\n",
       "      <td>0</td>\n",
       "      <td>10</td>\n",
       "      <td>[{'url': 'https://devpost.com/software/built-w...</td>\n",
       "      <td></td>\n",
       "    </tr>\n",
       "    <tr>\n",
       "      <th>4</th>\n",
       "      <td>https://devpost.com/AbnerCastro</td>\n",
       "      <td>637cdbf4a542eaf7a084854f</td>\n",
       "      <td>0</td>\n",
       "      <td>6</td>\n",
       "      <td>Abner Castro</td>\n",
       "      <td>2</td>\n",
       "      <td>Mexico City, Federal District, Mexico</td>\n",
       "      <td></td>\n",
       "      <td>AbnerCastro</td>\n",
       "      <td></td>\n",
       "      <td>https://github.com/abnerabbey</td>\n",
       "      <td>https://github.com/abnerabbey</td>\n",
       "      <td>7</td>\n",
       "      <td>0</td>\n",
       "      <td>4</td>\n",
       "      <td>[{'url': 'https://devpost.com/software/built-w...</td>\n",
       "      <td></td>\n",
       "    </tr>\n",
       "  </tbody>\n",
       "</table>\n",
       "</div>"
      ],
      "text/plain": [
       "                      participant-url                       _id  \\\n",
       "0          https://devpost.com/4n3ver  637cdbf3a542eaf7a0848549   \n",
       "1           https://devpost.com/88250  637cdbf4a542eaf7a084854a   \n",
       "2       https://devpost.com/Ab3PHilip  637cdbf4a542eaf7a084854c   \n",
       "3  https://devpost.com/AbhinashKhanal  637cdbf4a542eaf7a084854e   \n",
       "4     https://devpost.com/AbnerCastro  637cdbf4a542eaf7a084854f   \n",
       "\n",
       "  participant-likes participant-projects participant-name  \\\n",
       "0                 1                    2        Yoel Ivan   \n",
       "1                 0                    1       Liang Ding   \n",
       "2                 0                    1   Abraham Philip   \n",
       "3                 0                    1  Abhinash Khanal   \n",
       "4                 0                    6     Abner Castro   \n",
       "\n",
       "  participant-followers                   participant-location  \\\n",
       "0                     1                        Atlanta, GA, US   \n",
       "1                     2                 Kunming, Yunnan, China   \n",
       "2                     1     Exton, Pennsylvania, United States   \n",
       "3                     0        Albany, New York, United States   \n",
       "4                     2  Mexico City, Federal District, Mexico   \n",
       "\n",
       "  participant-bio  participant-id                    participant-linkedin  \\\n",
       "0                          4n3ver    https://www.linkedin.com/in/yoelivan   \n",
       "1                           88250                                           \n",
       "2                       Ab3PHilip                                           \n",
       "3                  AbhinashKhanal  https://www.linkedin.com/in/abhikhanal   \n",
       "4                     AbnerCastro                                           \n",
       "\n",
       "                     participant-website              participant-github  \\\n",
       "0              https://github.com/4n3ver       https://github.com/4n3ver   \n",
       "1                 http://88250.b3log.org                                   \n",
       "2           https://github.com/Ab3Philip    https://github.com/Ab3Philip   \n",
       "3  http://www.linkedin.com/in/abhikhanal  https://github.com/khanal-abhi   \n",
       "4          https://github.com/abnerabbey   https://github.com/abnerabbey   \n",
       "\n",
       "  participant-hackathons participant-following participant-number-of-skills  \\\n",
       "0                      2                     0                           18   \n",
       "1                      1                     2                            2   \n",
       "2                      0                     0                            3   \n",
       "3                      1                     0                           10   \n",
       "4                      7                     0                            4   \n",
       "\n",
       "                                  participant-skills participant-twitter  \n",
       "0  [{'url': 'https://devpost.com/software/built-w...                      \n",
       "1  [{'url': 'https://devpost.com/software/built-w...                      \n",
       "2  [{'url': 'https://devpost.com/software/built-w...                      \n",
       "3  [{'url': 'https://devpost.com/software/built-w...                      \n",
       "4  [{'url': 'https://devpost.com/software/built-w...                      "
      ]
     },
     "execution_count": 34,
     "metadata": {},
     "output_type": "execute_result"
    }
   ],
   "source": [
    "participants_no_duplicata.head()"
   ]
  },
  {
   "cell_type": "markdown",
   "metadata": {},
   "source": [
    "### Handling Missing Data"
   ]
  },
  {
   "cell_type": "code",
   "execution_count": 36,
   "metadata": {},
   "outputs": [
    {
     "data": {
      "text/html": [
       "<div>\n",
       "<style scoped>\n",
       "    .dataframe tbody tr th:only-of-type {\n",
       "        vertical-align: middle;\n",
       "    }\n",
       "\n",
       "    .dataframe tbody tr th {\n",
       "        vertical-align: top;\n",
       "    }\n",
       "\n",
       "    .dataframe thead th {\n",
       "        text-align: right;\n",
       "    }\n",
       "</style>\n",
       "<table border=\"1\" class=\"dataframe\">\n",
       "  <thead>\n",
       "    <tr style=\"text-align: right;\">\n",
       "      <th></th>\n",
       "      <th>participant-url</th>\n",
       "      <th>_id</th>\n",
       "      <th>participant-likes</th>\n",
       "      <th>participant-projects</th>\n",
       "      <th>participant-name</th>\n",
       "      <th>participant-followers</th>\n",
       "      <th>participant-location</th>\n",
       "      <th>participant-bio</th>\n",
       "      <th>participant-id</th>\n",
       "      <th>participant-linkedin</th>\n",
       "      <th>participant-website</th>\n",
       "      <th>participant-github</th>\n",
       "      <th>participant-hackathons</th>\n",
       "      <th>participant-following</th>\n",
       "      <th>participant-number-of-skills</th>\n",
       "      <th>participant-skills</th>\n",
       "      <th>participant-twitter</th>\n",
       "    </tr>\n",
       "  </thead>\n",
       "  <tbody>\n",
       "    <tr>\n",
       "      <th>0</th>\n",
       "      <td>False</td>\n",
       "      <td>False</td>\n",
       "      <td>False</td>\n",
       "      <td>False</td>\n",
       "      <td>False</td>\n",
       "      <td>False</td>\n",
       "      <td>False</td>\n",
       "      <td>False</td>\n",
       "      <td>False</td>\n",
       "      <td>False</td>\n",
       "      <td>False</td>\n",
       "      <td>False</td>\n",
       "      <td>False</td>\n",
       "      <td>False</td>\n",
       "      <td>False</td>\n",
       "      <td>False</td>\n",
       "      <td>False</td>\n",
       "    </tr>\n",
       "    <tr>\n",
       "      <th>1</th>\n",
       "      <td>False</td>\n",
       "      <td>False</td>\n",
       "      <td>False</td>\n",
       "      <td>False</td>\n",
       "      <td>False</td>\n",
       "      <td>False</td>\n",
       "      <td>False</td>\n",
       "      <td>False</td>\n",
       "      <td>False</td>\n",
       "      <td>False</td>\n",
       "      <td>False</td>\n",
       "      <td>False</td>\n",
       "      <td>False</td>\n",
       "      <td>False</td>\n",
       "      <td>False</td>\n",
       "      <td>False</td>\n",
       "      <td>False</td>\n",
       "    </tr>\n",
       "    <tr>\n",
       "      <th>2</th>\n",
       "      <td>False</td>\n",
       "      <td>False</td>\n",
       "      <td>False</td>\n",
       "      <td>False</td>\n",
       "      <td>False</td>\n",
       "      <td>False</td>\n",
       "      <td>False</td>\n",
       "      <td>False</td>\n",
       "      <td>False</td>\n",
       "      <td>False</td>\n",
       "      <td>False</td>\n",
       "      <td>False</td>\n",
       "      <td>False</td>\n",
       "      <td>False</td>\n",
       "      <td>False</td>\n",
       "      <td>False</td>\n",
       "      <td>False</td>\n",
       "    </tr>\n",
       "    <tr>\n",
       "      <th>3</th>\n",
       "      <td>False</td>\n",
       "      <td>False</td>\n",
       "      <td>False</td>\n",
       "      <td>False</td>\n",
       "      <td>False</td>\n",
       "      <td>False</td>\n",
       "      <td>False</td>\n",
       "      <td>False</td>\n",
       "      <td>False</td>\n",
       "      <td>False</td>\n",
       "      <td>False</td>\n",
       "      <td>False</td>\n",
       "      <td>False</td>\n",
       "      <td>False</td>\n",
       "      <td>False</td>\n",
       "      <td>False</td>\n",
       "      <td>False</td>\n",
       "    </tr>\n",
       "    <tr>\n",
       "      <th>4</th>\n",
       "      <td>False</td>\n",
       "      <td>False</td>\n",
       "      <td>False</td>\n",
       "      <td>False</td>\n",
       "      <td>False</td>\n",
       "      <td>False</td>\n",
       "      <td>False</td>\n",
       "      <td>False</td>\n",
       "      <td>False</td>\n",
       "      <td>False</td>\n",
       "      <td>False</td>\n",
       "      <td>False</td>\n",
       "      <td>False</td>\n",
       "      <td>False</td>\n",
       "      <td>False</td>\n",
       "      <td>False</td>\n",
       "      <td>False</td>\n",
       "    </tr>\n",
       "    <tr>\n",
       "      <th>...</th>\n",
       "      <td>...</td>\n",
       "      <td>...</td>\n",
       "      <td>...</td>\n",
       "      <td>...</td>\n",
       "      <td>...</td>\n",
       "      <td>...</td>\n",
       "      <td>...</td>\n",
       "      <td>...</td>\n",
       "      <td>...</td>\n",
       "      <td>...</td>\n",
       "      <td>...</td>\n",
       "      <td>...</td>\n",
       "      <td>...</td>\n",
       "      <td>...</td>\n",
       "      <td>...</td>\n",
       "      <td>...</td>\n",
       "      <td>...</td>\n",
       "    </tr>\n",
       "    <tr>\n",
       "      <th>495</th>\n",
       "      <td>False</td>\n",
       "      <td>False</td>\n",
       "      <td>False</td>\n",
       "      <td>False</td>\n",
       "      <td>False</td>\n",
       "      <td>False</td>\n",
       "      <td>False</td>\n",
       "      <td>False</td>\n",
       "      <td>False</td>\n",
       "      <td>False</td>\n",
       "      <td>False</td>\n",
       "      <td>False</td>\n",
       "      <td>False</td>\n",
       "      <td>False</td>\n",
       "      <td>False</td>\n",
       "      <td>False</td>\n",
       "      <td>False</td>\n",
       "    </tr>\n",
       "    <tr>\n",
       "      <th>496</th>\n",
       "      <td>False</td>\n",
       "      <td>False</td>\n",
       "      <td>False</td>\n",
       "      <td>False</td>\n",
       "      <td>False</td>\n",
       "      <td>False</td>\n",
       "      <td>False</td>\n",
       "      <td>False</td>\n",
       "      <td>False</td>\n",
       "      <td>False</td>\n",
       "      <td>False</td>\n",
       "      <td>False</td>\n",
       "      <td>False</td>\n",
       "      <td>False</td>\n",
       "      <td>False</td>\n",
       "      <td>False</td>\n",
       "      <td>False</td>\n",
       "    </tr>\n",
       "    <tr>\n",
       "      <th>497</th>\n",
       "      <td>False</td>\n",
       "      <td>False</td>\n",
       "      <td>False</td>\n",
       "      <td>False</td>\n",
       "      <td>False</td>\n",
       "      <td>False</td>\n",
       "      <td>False</td>\n",
       "      <td>False</td>\n",
       "      <td>False</td>\n",
       "      <td>False</td>\n",
       "      <td>False</td>\n",
       "      <td>False</td>\n",
       "      <td>False</td>\n",
       "      <td>False</td>\n",
       "      <td>False</td>\n",
       "      <td>False</td>\n",
       "      <td>False</td>\n",
       "    </tr>\n",
       "    <tr>\n",
       "      <th>498</th>\n",
       "      <td>False</td>\n",
       "      <td>False</td>\n",
       "      <td>False</td>\n",
       "      <td>False</td>\n",
       "      <td>False</td>\n",
       "      <td>False</td>\n",
       "      <td>False</td>\n",
       "      <td>False</td>\n",
       "      <td>False</td>\n",
       "      <td>False</td>\n",
       "      <td>False</td>\n",
       "      <td>False</td>\n",
       "      <td>False</td>\n",
       "      <td>False</td>\n",
       "      <td>False</td>\n",
       "      <td>False</td>\n",
       "      <td>False</td>\n",
       "    </tr>\n",
       "    <tr>\n",
       "      <th>499</th>\n",
       "      <td>False</td>\n",
       "      <td>False</td>\n",
       "      <td>False</td>\n",
       "      <td>False</td>\n",
       "      <td>False</td>\n",
       "      <td>False</td>\n",
       "      <td>False</td>\n",
       "      <td>False</td>\n",
       "      <td>False</td>\n",
       "      <td>False</td>\n",
       "      <td>False</td>\n",
       "      <td>False</td>\n",
       "      <td>False</td>\n",
       "      <td>False</td>\n",
       "      <td>False</td>\n",
       "      <td>False</td>\n",
       "      <td>False</td>\n",
       "    </tr>\n",
       "  </tbody>\n",
       "</table>\n",
       "<p>500 rows × 17 columns</p>\n",
       "</div>"
      ],
      "text/plain": [
       "     participant-url    _id  participant-likes  participant-projects  \\\n",
       "0              False  False              False                 False   \n",
       "1              False  False              False                 False   \n",
       "2              False  False              False                 False   \n",
       "3              False  False              False                 False   \n",
       "4              False  False              False                 False   \n",
       "..               ...    ...                ...                   ...   \n",
       "495            False  False              False                 False   \n",
       "496            False  False              False                 False   \n",
       "497            False  False              False                 False   \n",
       "498            False  False              False                 False   \n",
       "499            False  False              False                 False   \n",
       "\n",
       "     participant-name  participant-followers  participant-location  \\\n",
       "0               False                  False                 False   \n",
       "1               False                  False                 False   \n",
       "2               False                  False                 False   \n",
       "3               False                  False                 False   \n",
       "4               False                  False                 False   \n",
       "..                ...                    ...                   ...   \n",
       "495             False                  False                 False   \n",
       "496             False                  False                 False   \n",
       "497             False                  False                 False   \n",
       "498             False                  False                 False   \n",
       "499             False                  False                 False   \n",
       "\n",
       "     participant-bio  participant-id  participant-linkedin  \\\n",
       "0              False           False                 False   \n",
       "1              False           False                 False   \n",
       "2              False           False                 False   \n",
       "3              False           False                 False   \n",
       "4              False           False                 False   \n",
       "..               ...             ...                   ...   \n",
       "495            False           False                 False   \n",
       "496            False           False                 False   \n",
       "497            False           False                 False   \n",
       "498            False           False                 False   \n",
       "499            False           False                 False   \n",
       "\n",
       "     participant-website  participant-github  participant-hackathons  \\\n",
       "0                  False               False                   False   \n",
       "1                  False               False                   False   \n",
       "2                  False               False                   False   \n",
       "3                  False               False                   False   \n",
       "4                  False               False                   False   \n",
       "..                   ...                 ...                     ...   \n",
       "495                False               False                   False   \n",
       "496                False               False                   False   \n",
       "497                False               False                   False   \n",
       "498                False               False                   False   \n",
       "499                False               False                   False   \n",
       "\n",
       "     participant-following  participant-number-of-skills  participant-skills  \\\n",
       "0                    False                         False               False   \n",
       "1                    False                         False               False   \n",
       "2                    False                         False               False   \n",
       "3                    False                         False               False   \n",
       "4                    False                         False               False   \n",
       "..                     ...                           ...                 ...   \n",
       "495                  False                         False               False   \n",
       "496                  False                         False               False   \n",
       "497                  False                         False               False   \n",
       "498                  False                         False               False   \n",
       "499                  False                         False               False   \n",
       "\n",
       "     participant-twitter  \n",
       "0                  False  \n",
       "1                  False  \n",
       "2                  False  \n",
       "3                  False  \n",
       "4                  False  \n",
       "..                   ...  \n",
       "495                False  \n",
       "496                False  \n",
       "497                False  \n",
       "498                False  \n",
       "499                False  \n",
       "\n",
       "[500 rows x 17 columns]"
      ]
     },
     "execution_count": 36,
     "metadata": {},
     "output_type": "execute_result"
    }
   ],
   "source": [
    "participants_no_duplicata.isnull()"
   ]
  },
  {
   "cell_type": "markdown",
   "metadata": {},
   "source": [
    "### Handling outliers\n",
    "Another type of profiling is to check for legitimate values and handling outliers. We need to do that with numerical values only."
   ]
  },
  {
   "cell_type": "code",
   "execution_count": null,
   "metadata": {},
   "outputs": [],
   "source": [
    "numerical_data = data_1.drop(['id','phone_id', 'bluetooth', 'dual_sim', 'four_g', 'three_g', \n",
    "                          'touch_screen', 'wifi', 'price_range'], axis=1)\n",
    "numerical_data.head()"
   ]
  },
  {
   "cell_type": "code",
   "execution_count": null,
   "metadata": {},
   "outputs": [],
   "source": [
    "categorical_data = data_1[['id', 'phone_id','bluetooth', 'dual_sim', 'four_g', 'three_g', \n",
    "                         'touch_screen', 'wifi', 'price_range']]\n",
    "categorical_data.head()"
   ]
  },
  {
   "cell_type": "code",
   "execution_count": null,
   "metadata": {},
   "outputs": [],
   "source": [
    "# view a single column's outliers\n",
    "sns.boxplot(data=numerical_data['ram'],\n",
    "            orient = 'v')"
   ]
  },
  {
   "cell_type": "code",
   "execution_count": null,
   "metadata": {},
   "outputs": [],
   "source": [
    "# view all columns\n",
    "bp = sns.boxplot(data = numerical_data)\n",
    "\n",
    "bp.set_xticklabels(bp.get_xticklabels(), rotation=90)"
   ]
  },
  {
   "cell_type": "markdown",
   "metadata": {},
   "source": [
    "To better visualize, you may want to standardize the values of the columns."
   ]
  },
  {
   "cell_type": "code",
   "execution_count": null,
   "metadata": {},
   "outputs": [],
   "source": [
    "\n",
    "scaler = StandardScaler()\n",
    "\n",
    "scaled_array = scaler.fit_transform(numerical_data)"
   ]
  },
  {
   "cell_type": "code",
   "execution_count": null,
   "metadata": {},
   "outputs": [],
   "source": [
    "scaled_data = pd.DataFrame(scaled_array, columns = numerical_data.columns)\n",
    "\n",
    "scaled_data.head()"
   ]
  },
  {
   "cell_type": "code",
   "execution_count": null,
   "metadata": {},
   "outputs": [],
   "source": [
    "scaled_data.describe()"
   ]
  },
  {
   "cell_type": "code",
   "execution_count": null,
   "metadata": {},
   "outputs": [],
   "source": [
    "bp = sns.boxplot(data = scaled_data)\n",
    "\n",
    "bp.set_xticklabels(bp.get_xticklabels(), rotation=90)"
   ]
  },
  {
   "cell_type": "code",
   "execution_count": null,
   "metadata": {},
   "outputs": [],
   "source": [
    "# we can use Interquartile range (IQR) to distinguish outliers \n",
    "Q1 = numerical_data.quantile(0.25)\n",
    "Q3 = numerical_data.quantile(0.75)\n",
    "\n",
    "IQR = Q3 - Q1\n",
    "\n",
    "print(IQR)"
   ]
  },
  {
   "cell_type": "code",
   "execution_count": null,
   "metadata": {},
   "outputs": [],
   "source": [
    "outliers_removed_data = numerical_data[~ ((numerical_data < (Q1 - 1.5 * IQR)) \\\n",
    "                                     | (numerical_data > (Q3 + 1.5 * IQR))).any(axis=1)]\n",
    "\n",
    "outliers_removed_data.shape"
   ]
  },
  {
   "cell_type": "code",
   "execution_count": null,
   "metadata": {},
   "outputs": [],
   "source": [
    "bp = sns.boxplot(data = outliers_removed_data)\n",
    "\n",
    "bp.set_xticklabels(bp.get_xticklabels(), rotation=90)"
   ]
  },
  {
   "cell_type": "markdown",
   "metadata": {},
   "source": [
    "### Put things together"
   ]
  },
  {
   "cell_type": "code",
   "execution_count": null,
   "metadata": {},
   "outputs": [],
   "source": [
    "final_data_1 = outliers_removed_data.join(categorical_data, how='inner')\n",
    "final_data_1.head()"
   ]
  },
  {
   "cell_type": "markdown",
   "metadata": {},
   "source": [
    "### Write this part of the data to disk"
   ]
  },
  {
   "cell_type": "code",
   "execution_count": null,
   "metadata": {},
   "outputs": [],
   "source": [
    "final_data_1.to_csv('./data/output/mobile_data_1_cleaned.csv', index = False)"
   ]
  },
  {
   "cell_type": "markdown",
   "metadata": {},
   "source": [
    "## Pre-processing the second data set"
   ]
  },
  {
   "cell_type": "code",
   "execution_count": null,
   "metadata": {},
   "outputs": [],
   "source": [
    "data_2 = pd.read_csv('./data/input/mobile_data_2.csv')"
   ]
  },
  {
   "cell_type": "code",
   "execution_count": null,
   "metadata": {},
   "outputs": [],
   "source": [
    "data_2.head(30)"
   ]
  },
  {
   "cell_type": "markdown",
   "metadata": {},
   "source": [
    "We can observe that some of the columns have compound information, e.g. Body Dimension and Body weight. Also, some records have meaningless data. Also, some columns are irrelevant to the analysis, like the Picture url.\n",
    "So, we will do the following.\n",
    "- Drop irrelevant columns, e.g. Picture url\n",
    "- Drop records with meaningless data. We can drop records for which columns like Body dimensions, Body weight and display resolution are less than 20 characters long.\n"
   ]
  },
  {
   "cell_type": "code",
   "execution_count": null,
   "metadata": {},
   "outputs": [],
   "source": [
    "data_2 = data_2.drop('Picture URL small', axis =1)\n",
    "data_2.columns"
   ]
  },
  {
   "cell_type": "code",
   "execution_count": null,
   "metadata": {},
   "outputs": [],
   "source": [
    "data_2 = data_2.rename (columns = {'Body Dimensions':'BodyDimensions', 'Body Weight':'BodyWeight', 'Display Resolution':'DisplayResolution'})\n",
    "data_2.dtypes"
   ]
  },
  {
   "cell_type": "code",
   "execution_count": null,
   "metadata": {},
   "outputs": [],
   "source": [
    "data_2.info()\n",
    "#data_2.info(memory_usage='deep')"
   ]
  },
  {
   "cell_type": "markdown",
   "metadata": {},
   "source": [
    "We can observe that Pandas is not able to infer the type on its own for the non-ID columns. So, let's enforce the type"
   ]
  },
  {
   "cell_type": "code",
   "execution_count": null,
   "metadata": {},
   "outputs": [],
   "source": [
    "data_2['Brand']= data_2['Brand'].astype('str')\n",
    "data_2['Phone']= data_2['Phone'].astype('str')\n",
    "data_2['BodyDimensions']= data_2['BodyDimensions'].astype('str')\n",
    "data_2['BodyWeight']= data_2['BodyWeight'].astype('str')\n",
    "data_2['DisplayResolution']= data_2['DisplayResolution'].astype('str')"
   ]
  },
  {
   "cell_type": "code",
   "execution_count": null,
   "metadata": {},
   "outputs": [],
   "source": [
    "meaningful_data_2 = data_2[(data_2['BodyWeight'].str.len() > 10) & (data_2['DisplayResolution'].str.len() > 20)]"
   ]
  },
  {
   "cell_type": "code",
   "execution_count": null,
   "metadata": {},
   "outputs": [],
   "source": [
    "data_2.shape"
   ]
  },
  {
   "cell_type": "code",
   "execution_count": null,
   "metadata": {},
   "outputs": [],
   "source": [
    "meaningful_data_2.shape "
   ]
  },
  {
   "cell_type": "markdown",
   "metadata": {},
   "source": [
    "We need to extract the weight as a new column for the value of grams only. We can achieve that by assuming that we split the string describing the weight by the **g** character."
   ]
  },
  {
   "cell_type": "code",
   "execution_count": null,
   "metadata": {},
   "outputs": [],
   "source": [
    "WeightInGrams = meaningful_data_2.apply(lambda row: row['BodyWeight'].split('g')[0].strip(), axis=1)"
   ]
  },
  {
   "cell_type": "code",
   "execution_count": null,
   "metadata": {},
   "outputs": [],
   "source": [
    "WeightInGrams"
   ]
  },
  {
   "cell_type": "code",
   "execution_count": null,
   "metadata": {},
   "outputs": [],
   "source": [
    "meaningful_data_2['WeightInGrams'] = WeightInGrams \n",
    "# make a copy beforehand to avoid circular reference and/or making unwanted changes in previous dataframes\n",
    "# meaningful_data_3 = meaningful_data_2.copy()"
   ]
  },
  {
   "cell_type": "code",
   "execution_count": null,
   "metadata": {},
   "outputs": [],
   "source": [
    "meaningful_data_3.shape"
   ]
  },
  {
   "cell_type": "code",
   "execution_count": null,
   "metadata": {},
   "outputs": [],
   "source": [
    "meaningful_data_3.sample(100)"
   ]
  },
  {
   "cell_type": "markdown",
   "metadata": {},
   "source": [
    "We can notice in the original data that the ''BodyWeight'' column has actually multiple values. For example, we can find value like _331 g (Wi-Fi) / 341 g (3G/LTE) (11.68 oz);_. This means that there are different weights for different configurations. Our objective is to create a new row for each different weight and put another column called configuration."
   ]
  },
  {
   "cell_type": "markdown",
   "metadata": {},
   "source": [
    "One way is to first get those rows that have multiple weight values"
   ]
  },
  {
   "cell_type": "code",
   "execution_count": null,
   "metadata": {},
   "outputs": [],
   "source": [
    "multiple_weight_phones = meaningful_data_3[(meaningful_data_3['BodyWeight'].str.find('/') > -1 ) | (meaningful_data_3['BodyWeight'].str.find(',') > -1 )]"
   ]
  },
  {
   "cell_type": "code",
   "execution_count": null,
   "metadata": {},
   "outputs": [],
   "source": [
    "multiple_weight_phones.shape"
   ]
  },
  {
   "cell_type": "code",
   "execution_count": null,
   "metadata": {},
   "outputs": [],
   "source": [
    "multiple_weight_phones"
   ]
  },
  {
   "cell_type": "markdown",
   "metadata": {},
   "source": [
    "Let's first unify the splitting character. We make sure that ',' is transformed to '/'. Also, we have another occurrence of '/' in some configurations e.g., (3G/LTE). In this case, this will complicate the splitting. The relevant occurrence of weight separators is followed by a space. So, we make another replacement where we replace '/ ' with '//'"
   ]
  },
  {
   "cell_type": "code",
   "execution_count": null,
   "metadata": {},
   "outputs": [],
   "source": [
    "unifiedSeparator = multiple_weight_phones.apply (lambda row: row['BodyWeight'].replace(',','/').replace('/ ','//'), axis=1)"
   ]
  },
  {
   "cell_type": "code",
   "execution_count": null,
   "metadata": {},
   "outputs": [],
   "source": [
    "unifiedSeparator.head()"
   ]
  },
  {
   "cell_type": "code",
   "execution_count": null,
   "metadata": {},
   "outputs": [],
   "source": [
    "multiple_weight_phones = multiple_weight_phones.drop(['BodyWeight'], axis=1)\n",
    "multiple_weight_phones.shape"
   ]
  },
  {
   "cell_type": "code",
   "execution_count": null,
   "metadata": {},
   "outputs": [],
   "source": [
    "multiple_weight_phones['BodyWeight'] =unifiedSeparator\n",
    "multiple_weight_phones.shape"
   ]
  },
  {
   "cell_type": "code",
   "execution_count": null,
   "metadata": {},
   "outputs": [],
   "source": [
    "multiple_weight_phones['BodyWeight']"
   ]
  },
  {
   "cell_type": "code",
   "execution_count": null,
   "metadata": {},
   "outputs": [],
   "source": [
    "multiple_weight_2 = multiple_weight_phones.apply(lambda row: row['BodyWeight'].split('//'), axis=1).explode()\n",
    "multiple_weight_2.head()"
   ]
  },
  {
   "cell_type": "code",
   "execution_count": null,
   "metadata": {},
   "outputs": [],
   "source": [
    "multiple_weights_3 = multiple_weight_phones.join(pd.DataFrame(multiple_weight_2,columns=['Config']))\n",
    "multiple_weights_3.head()"
   ]
  },
  {
   "cell_type": "code",
   "execution_count": null,
   "metadata": {},
   "outputs": [],
   "source": [
    "multiple_weights_3.columns"
   ]
  },
  {
   "cell_type": "code",
   "execution_count": null,
   "metadata": {},
   "outputs": [],
   "source": [
    "multiple_weights_3 = multiple_weights_3.drop(['Brand', 'Phone', 'BodyDimensions', 'DisplayResolution',\n",
    "       'WeightInGrams', 'BodyWeight'], axis=1)\n",
    "multiple_weights_3.head()"
   ]
  },
  {
   "cell_type": "markdown",
   "metadata": {},
   "source": [
    "Now, we can split the config column to weight and config"
   ]
  },
  {
   "cell_type": "code",
   "execution_count": null,
   "metadata": {},
   "outputs": [],
   "source": [
    "weight = multiple_weights_3.apply(lambda row: row['Config'].split('g')[0].strip(), axis=1)\n",
    "weight.head()"
   ]
  },
  {
   "cell_type": "code",
   "execution_count": null,
   "metadata": {},
   "outputs": [],
   "source": [
    "config = multiple_weights_3.apply(lambda row: row['Config'].split('g')[1].strip().split(')')[0][1:], axis=1)\n",
    "config.head()"
   ]
  },
  {
   "cell_type": "code",
   "execution_count": null,
   "metadata": {},
   "outputs": [],
   "source": [
    "multiple_weights_3= multiple_weights_3.drop(['Config'], axis = 1)\n",
    "multiple_weights_3.columns"
   ]
  },
  {
   "cell_type": "code",
   "execution_count": null,
   "metadata": {},
   "outputs": [],
   "source": [
    "multiple_weights_3['Config'] = config"
   ]
  },
  {
   "cell_type": "code",
   "execution_count": null,
   "metadata": {},
   "outputs": [],
   "source": [
    "multiple_weights_3['Weight'] = weight "
   ]
  },
  {
   "cell_type": "code",
   "execution_count": null,
   "metadata": {},
   "outputs": [],
   "source": [
    "multiple_weights_3.head()"
   ]
  },
  {
   "cell_type": "code",
   "execution_count": null,
   "metadata": {},
   "outputs": [],
   "source": [
    "meaningful_data_4 = meaningful_data_3.join(multiple_weights_3, how='left',rsuffix='_multiple')"
   ]
  },
  {
   "cell_type": "code",
   "execution_count": null,
   "metadata": {},
   "outputs": [],
   "source": [
    "meaningful_data_4.sample(50)"
   ]
  },
  {
   "cell_type": "code",
   "execution_count": null,
   "metadata": {},
   "outputs": [],
   "source": [
    "meaningful_data_4 = meaningful_data_4.drop(['ID_multiple'], axis=1)"
   ]
  },
  {
   "cell_type": "code",
   "execution_count": null,
   "metadata": {},
   "outputs": [],
   "source": [
    "meaningful_data_4.sample(50)"
   ]
  },
  {
   "cell_type": "code",
   "execution_count": null,
   "metadata": {},
   "outputs": [],
   "source": [
    "meaningful_data_4['Weight'].fillna(meaningful_data_4['WeightInGrams'], inplace=True) "
   ]
  },
  {
   "cell_type": "code",
   "execution_count": null,
   "metadata": {},
   "outputs": [],
   "source": [
    "meaningful_data_4.sample(50)"
   ]
  },
  {
   "cell_type": "code",
   "execution_count": null,
   "metadata": {},
   "outputs": [],
   "source": [
    "meaningful_data_4 = meaningful_data_4.drop(['WeightInGrams'], axis=1)"
   ]
  },
  {
   "cell_type": "code",
   "execution_count": null,
   "metadata": {},
   "outputs": [],
   "source": [
    "meaningful_data_4.head(20)"
   ]
  },
  {
   "cell_type": "markdown",
   "metadata": {},
   "source": [
    "Checking the dataframes held in memory"
   ]
  },
  {
   "cell_type": "code",
   "execution_count": null,
   "metadata": {},
   "outputs": [],
   "source": [
    "%whos DataFrame"
   ]
  },
  {
   "cell_type": "code",
   "execution_count": null,
   "metadata": {},
   "outputs": [],
   "source": [
    "# Find the memory footprint\n",
    "df_list = []    \n",
    "for var in dir():\n",
    "    if isinstance(locals()[var], pd.core.frame.DataFrame) and var[0] != '_':\n",
    "        df_list.append(var)    "
   ]
  },
  {
   "cell_type": "code",
   "execution_count": null,
   "metadata": {},
   "outputs": [],
   "source": [
    "memory_cons = 0\n",
    "for d in df_list:\n",
    "    memory_cons += locals()[d].memory_usage(deep=True).sum()\n",
    "\n",
    "print(f'Total memory consumed by dataframes: {round(memory_cons/1024/1024,1)} MB')"
   ]
  },
  {
   "cell_type": "markdown",
   "metadata": {},
   "source": [
    "#### Assignment\n",
    " "
   ]
  },
  {
   "cell_type": "code",
   "execution_count": null,
   "metadata": {},
   "outputs": [],
   "source": [
    "# Fill the empty \"Config\" column in the meaningful_data_4 dataframe with value \"Standard\"\n",
    "\n",
    "config_values = meaningful_data_4['Config'].fillna('Standard')\n",
    "meaningful_data_5 = meaningful_data_4\n",
    "meaningful_data_5['Config'] = config_values\n",
    "meaningful_data_5.head(50)"
   ]
  },
  {
   "cell_type": "code",
   "execution_count": null,
   "metadata": {},
   "outputs": [],
   "source": [
    "# Transform the body dimensions and get separate height, width, and depth dimensions in mm\n",
    "\n",
    "dimensions = meaningful_data_5.apply(lambda row: row['BodyDimensions'].split('mm')[0].strip(), axis=1)\n",
    "dimensions.head()"
   ]
  },
  {
   "cell_type": "code",
   "execution_count": null,
   "metadata": {},
   "outputs": [],
   "source": [
    "height_dim = dimensions.apply(lambda row: row.split(' x ')[0].strip())\n",
    "width_dim = dimensions.apply(lambda row: row.split(' x ')[1].strip())\n",
    "depth_dim = dimensions.apply(lambda row: row.split(' x ')[2].strip())"
   ]
  },
  {
   "cell_type": "code",
   "execution_count": null,
   "metadata": {},
   "outputs": [],
   "source": [
    "height_dim.head()\n",
    "#width_dim.head()\n",
    "#depth_dim.head()"
   ]
  },
  {
   "cell_type": "code",
   "execution_count": null,
   "metadata": {},
   "outputs": [],
   "source": [
    "final_data_2 = (meaningful_data_5\n",
    "                     .join(pd.DataFrame(height_dim, columns=['Height']))\n",
    "                     .join(pd.DataFrame(width_dim, columns=['Width']))\n",
    "                     .join(pd.DataFrame(depth_dim, columns=['Depth']))\n",
    "                    )"
   ]
  },
  {
   "cell_type": "code",
   "execution_count": null,
   "metadata": {},
   "outputs": [],
   "source": [
    "final_data_2.head()"
   ]
  },
  {
   "cell_type": "code",
   "execution_count": null,
   "metadata": {},
   "outputs": [],
   "source": [
    "# Inner join the three data sets:\n",
    "## preprocessed mobile 1 dataset\n",
    "## preprocessed mobile 2 dataset\n",
    "## price ranges\n",
    "\n",
    "\n",
    "price_ranges = pd.read_csv('./data/input/price_ranges.csv', header=0, names=['price_range', 'Min', 'Max'])\n",
    "\n",
    "joined_data = (final_data_1\n",
    "               .join(final_data_2,how='inner')\n",
    "               .join(price_ranges,how='inner',on='price_range',rsuffix='_r')\n",
    "              )\n",
    "\n",
    "joined_data.head()"
   ]
  },
  {
   "cell_type": "code",
   "execution_count": null,
   "metadata": {},
   "outputs": [],
   "source": [
    "joined_data.shape"
   ]
  },
  {
   "cell_type": "code",
   "execution_count": null,
   "metadata": {},
   "outputs": [],
   "source": [
    "# Save the final data frame in a file 'ready_for_analysis.csv'\n",
    "\n",
    "joined_data.to_csv('./data/output/ready_for_analysis.csv')"
   ]
  },
  {
   "cell_type": "markdown",
   "metadata": {},
   "source": [
    "#### Check also:\n",
    "\n",
    "* <a href=\"https://pandas.pydata.org/docs/reference/index.html\">API reference</a>\n",
    "* <a href=\"https://pandas.pydata.org/Pandas_Cheat_Sheet.pdf\">Official cheat sheet</a>"
   ]
  }
 ],
 "metadata": {
  "kernelspec": {
   "display_name": "Python 3.10.7 64-bit",
   "language": "python",
   "name": "python3"
  },
  "language_info": {
   "codemirror_mode": {
    "name": "ipython",
    "version": 3
   },
   "file_extension": ".py",
   "mimetype": "text/x-python",
   "name": "python",
   "nbconvert_exporter": "python",
   "pygments_lexer": "ipython3",
   "version": "3.10.7"
  },
  "vscode": {
   "interpreter": {
    "hash": "931dbcbf0aa9e9af4b1339b56baf43e97036e1a3ac5501d2621a8fa602ae4694"
   }
  }
 },
 "nbformat": 4,
 "nbformat_minor": 4
}
